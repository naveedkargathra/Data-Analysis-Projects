{
 "cells": [
  {
   "cell_type": "code",
   "execution_count": 1,
   "id": "416ea6ec-4a05-4f3b-9bbe-126f4aa2ef7f",
   "metadata": {},
   "outputs": [
    {
     "data": {
      "text/plain": [
       "{'divide': 'warn', 'over': 'warn', 'under': 'ignore', 'invalid': 'warn'}"
      ]
     },
     "execution_count": 1,
     "metadata": {},
     "output_type": "execute_result"
    }
   ],
   "source": [
    "import pandas as pd\n",
    "import numpy as np\n",
    "import matplotlib.pyplot as plt\n",
    "import seaborn as sns\n",
    "np.seterr(divide='ignore', invalid='ignore')\n"
   ]
  },
  {
   "cell_type": "markdown",
   "id": "da96f6ea-0b04-483e-97e4-d59655e6686d",
   "metadata": {},
   "source": [
    "# **Finding the Total Cost by Aircraft Type for the entire year and the Aircraft Type with the lowest cost per seat per km**"
   ]
  },
  {
   "cell_type": "markdown",
   "id": "28be8f20-5663-4b9d-8d78-f3504323a947",
   "metadata": {},
   "source": [
    "### Import excel sheets for Operations, AC Characteristics, City_pairs"
   ]
  },
  {
   "cell_type": "code",
   "execution_count": 2,
   "id": "028e47b2-bd7c-41f5-bbdd-e0a83af6502f",
   "metadata": {},
   "outputs": [],
   "source": [
    "operations = pd.read_excel(io=\"Data Science Case study Vindiata.xlsx\", sheet_name= \"Operations\", header=3, index_col=1)\n",
    "AC_char = pd.read_excel(io=\"Data Science Case study Vindiata.xlsx\", sheet_name= \"AC characteristics\", header=3, index_col=1)\n",
    "city_pairs = pd.read_excel(io=\"Data Science Case study Vindiata.xlsx\", sheet_name= \"City pairs\", header=3, index_col=1).reset_index()\n"
   ]
  },
  {
   "cell_type": "markdown",
   "id": "76d23d03-cb48-445c-bd7a-689e8121bf7c",
   "metadata": {},
   "source": [
    "### Dropping Null values and renaming columns"
   ]
  },
  {
   "cell_type": "code",
   "execution_count": 3,
   "id": "1d9de31d-a19e-4992-9df0-d8f5fd55d707",
   "metadata": {},
   "outputs": [],
   "source": [
    "operations = operations.dropna(axis=1)\n",
    "AC_char = AC_char.dropna(axis=1)\n",
    "city_pairs = city_pairs.dropna(axis=1)\n",
    "\n",
    "operations.columns = [\"Aircraft Type\",\"Jan\",\"Feb\",\"Mar\", \"Apr\", \"May\", \"Jun\", \"Jul\", \"Aug\", \"Sep\", \"Oct\", \"Nov\", \"Dec\"]\n",
    "city_pairs.columns = [\"Origin\", \"Destination\",\"Passengers\",\"Distance\"]\n"
   ]
  },
  {
   "cell_type": "markdown",
   "id": "1eeacfe6-9023-4391-b4b4-f6094f304ec4",
   "metadata": {},
   "source": [
    "### Aggregating Operations table for Airline A by Hours Flown for the entire year for each aircraft type."
   ]
  },
  {
   "cell_type": "code",
   "execution_count": 4,
   "id": "075e85d9-a09b-49ac-88f7-41eee0718fb9",
   "metadata": {},
   "outputs": [
    {
     "name": "stdout",
     "output_type": "stream",
     "text": [
      "                Jan   Feb   Mar   Apr   May   Jun   Jul   Aug   Sep   Oct  \\\n",
      "Aircraft Type                                                               \n",
      "A320           1240  1245  1230  1255  1205  1215  1230  1220  1270  1270   \n",
      "A330           1820  1826  1808  1838  1778  1790  1808  1796  1856  1856   \n",
      "ATR72           795   799   787   807   767   775   787   779   819   819   \n",
      "B737            985   989   977   997   957   965   977   969  1009  1009   \n",
      "B747            920   923   914   929   899   905   914   908   938   938   \n",
      "Q400            790   794   782   802   762   770   782   774   814   814   \n",
      "\n",
      "                Nov   Dec  Hours Flown  \n",
      "Aircraft Type                           \n",
      "A320           1245  1250        14875  \n",
      "A330           1826  1832        21834  \n",
      "ATR72           799   803         9536  \n",
      "B737            989   993        11816  \n",
      "B747            923   926        11037  \n",
      "Q400            794   798         9476  \n",
      "               Range (Km)  Ave. Speed (km/h)  Number of Seats  \\\n",
      "Aircraft Type                                                   \n",
      "A320                 5000                800              150   \n",
      "A330                 8000                900              250   \n",
      "B737                 5000                800              150   \n",
      "B747                10000                900              350   \n",
      "Q400                 1500                750               90   \n",
      "ATR72                1000                650               75   \n",
      "\n",
      "               Costs per flight hour  \n",
      "Aircraft Type                         \n",
      "A320                            5000  \n",
      "A330                            7500  \n",
      "B737                            5100  \n",
      "B747                           12000  \n",
      "Q400                            3500  \n",
      "ATR72                           2750  \n",
      "  Origin Destination  Passengers  Distance\n",
      "0     AA          BB         420      3000\n",
      "1     BB          CC         450      6500\n",
      "2     CC          AA         300       400\n",
      "3     AA          DD         300      1000\n"
     ]
    }
   ],
   "source": [
    "months = operations.columns[1:]\n",
    "\n",
    "operations=operations.groupby([\"Aircraft Type\"]).sum()\n",
    "operations[\"Hours Flown\"]= operations[months].sum(axis=1)\n",
    "print(operations)\n",
    "print(AC_char)\n",
    "print(city_pairs)"
   ]
  },
  {
   "cell_type": "markdown",
   "id": "baf31a13-48e5-4e22-b055-372d9d88b5b6",
   "metadata": {},
   "source": [
    "### Joining the Operations and AC Characteristics Table on Aircraft Type and keeping the relevant columns"
   ]
  },
  {
   "cell_type": "code",
   "execution_count": 5,
   "id": "4e7477fe-3be4-4113-be19-cd4c24177945",
   "metadata": {},
   "outputs": [
    {
     "name": "stdout",
     "output_type": "stream",
     "text": [
      "  Aircraft Type  Hours Flown  Costs per flight hour  Number of Seats  \\\n",
      "0          A320        14875                   5000              150   \n",
      "1          A330        21834                   7500              250   \n",
      "2         ATR72         9536                   2750               75   \n",
      "3          B737        11816                   5100              150   \n",
      "4          B747        11037                  12000              350   \n",
      "5          Q400         9476                   3500               90   \n",
      "\n",
      "   Ave. Speed (km/h)  Range (Km)  \n",
      "0                800        5000  \n",
      "1                900        8000  \n",
      "2                650        1000  \n",
      "3                800        5000  \n",
      "4                900       10000  \n",
      "5                750        1500  \n"
     ]
    }
   ],
   "source": [
    "lowest_cost = operations.join(AC_char, lsuffix='_caller', rsuffix='_other')\n",
    "lowest_cost= lowest_cost[[\"Hours Flown\",\"Costs per flight hour\",\"Number of Seats\", \"Ave. Speed (km/h)\",\"Range (Km)\"]].reset_index()\n",
    "print(lowest_cost)"
   ]
  },
  {
   "cell_type": "markdown",
   "id": "3d0f560f-a1f6-41e0-b3ee-445d058fd40e",
   "metadata": {},
   "source": [
    "### Calculating Total Cost for each Aircraft Type \n",
    "\n",
    "#### *Total Cost = Hours Flown * Cost per flight hour*"
   ]
  },
  {
   "cell_type": "code",
   "execution_count": 6,
   "id": "a1ea0d36-0f44-4b32-afe5-342baf1b87d9",
   "metadata": {},
   "outputs": [
    {
     "name": "stdout",
     "output_type": "stream",
     "text": [
      "The Total Cost for the Entire year by Aircraft Type is summarized in the table below\n",
      "  Aircraft Type  Hours Flown  Costs per flight hour  Number of Seats  \\\n",
      "0          A320        14875                   5000              150   \n",
      "1          A330        21834                   7500              250   \n",
      "2         ATR72         9536                   2750               75   \n",
      "3          B737        11816                   5100              150   \n",
      "4          B747        11037                  12000              350   \n",
      "5          Q400         9476                   3500               90   \n",
      "\n",
      "   Ave. Speed (km/h)  Range (Km)  Total Costs  \n",
      "0                800        5000     74375000  \n",
      "1                900        8000    163755000  \n",
      "2                650        1000     26224000  \n",
      "3                800        5000     60261600  \n",
      "4                900       10000    132444000  \n",
      "5                750        1500     33166000  \n"
     ]
    },
    {
     "data": {
      "image/png": "[encoded data removed]",
      "text/plain": [
       "<Figure size 432x288 with 1 Axes>"
      ]
     },
     "metadata": {
      "needs_background": "light"
     },
     "output_type": "display_data"
    }
   ],
   "source": [
    "lowest_cost[\"Total Costs\"] = lowest_cost[\"Hours Flown\"] * lowest_cost[\"Costs per flight hour\"]\n",
    "\n",
    "print(\"The Total Cost for the Entire year by Aircraft Type is summarized in the table below\")\n",
    "print(lowest_cost)\n",
    "fig = sns.barplot(x = lowest_cost[\"Aircraft Type\"], y = lowest_cost[\"Total Costs\"], data = lowest_cost, palette = 'bright')\n"
   ]
  },
  {
   "cell_type": "markdown",
   "id": "031b2fe3-45f2-4efc-8ea3-792753ce8725",
   "metadata": {},
   "source": [
    "### Calculating the Cost per Hour per Km by Aircraft Type\n",
    "\n",
    "#### *Cost per Seat per Km = Total Costs/(Number of Seats * Hours Flown * Average Speed)*"
   ]
  },
  {
   "cell_type": "code",
   "execution_count": 7,
   "id": "a479527a-d9e1-4387-825a-a51e8623fdbb",
   "metadata": {},
   "outputs": [
    {
     "name": "stdout",
     "output_type": "stream",
     "text": [
      "The lowest Cost per seat per km is of Aircraft Type 1\n",
      "  Aircraft Type  Hours Flown  Costs per flight hour  Number of Seats  \\\n",
      "1          A330        21834                   7500              250   \n",
      "4          B747        11037                  12000              350   \n",
      "0          A320        14875                   5000              150   \n",
      "3          B737        11816                   5100              150   \n",
      "5          Q400         9476                   3500               90   \n",
      "2         ATR72         9536                   2750               75   \n",
      "\n",
      "   Ave. Speed (km/h)  Range (Km)  Total Costs  Cost per seat per km  \n",
      "1                900        8000    163755000                0.0333  \n",
      "4                900       10000    132444000                0.0381  \n",
      "0                800        5000     74375000                0.0417  \n",
      "3                800        5000     60261600                0.0425  \n",
      "5                750        1500     33166000                0.0519  \n",
      "2                650        1000     26224000                0.0564  \n"
     ]
    },
    {
     "data": {
      "image/png": "[encoded data removed]",
      "text/plain": [
       "<Figure size 432x288 with 1 Axes>"
      ]
     },
     "metadata": {
      "needs_background": "light"
     },
     "output_type": "display_data"
    }
   ],
   "source": [
    "lowest_cost[\"Cost per seat per km\"] = round(lowest_cost[\"Total Costs\"]/(lowest_cost[\"Number of Seats\"]*lowest_cost[\"Hours Flown\"]*lowest_cost[\"Ave. Speed (km/h)\"]),4)\n",
    "lowest_cost = lowest_cost.sort_values(\"Cost per seat per km\", ascending=True)\n",
    "fig = sns.barplot(x = lowest_cost[\"Aircraft Type\"], y = lowest_cost[\"Cost per seat per km\"], data = lowest_cost, palette = 'bright')\n",
    "\n",
    "\n",
    "print(f\"The lowest Cost per seat per km is of Aircraft Type {lowest_cost.index[0]}\")\n",
    "print(lowest_cost)"
   ]
  },
  {
   "cell_type": "code",
   "execution_count": 8,
   "id": "934b241a-51fb-4e4c-a8e5-abc65f1d7b12",
   "metadata": {},
   "outputs": [
    {
     "name": "stdout",
     "output_type": "stream",
     "text": [
      "---------------------------------------------------------------------------------------------------------------------------------------------\n"
     ]
    }
   ],
   "source": [
    "print(\"---------------------------------------------------------------------------------------------------------------------------------------------\")"
   ]
  },
  {
   "cell_type": "markdown",
   "id": "f01b32b0-4129-4457-bdc1-94142f77f650",
   "metadata": {},
   "source": [
    "# **Finding the most optimal Aircraft Type for each City-Pair by Range, Passenger Demand and Cost**"
   ]
  },
  {
   "cell_type": "markdown",
   "id": "ee349b87-27f4-4428-8cd0-0e1b5975db99",
   "metadata": {},
   "source": [
    "### Modifying the lowest_cost table to keep relevant columns"
   ]
  },
  {
   "cell_type": "code",
   "execution_count": 9,
   "id": "de404f46-5dbb-452c-96aa-20c785977b9e",
   "metadata": {},
   "outputs": [
    {
     "name": "stdout",
     "output_type": "stream",
     "text": [
      "   index Aircraft Type  Number of Seats  Range (Km)  Cost per seat per km\n",
      "0      1          A330              250        8000                0.0333\n",
      "1      4          B747              350       10000                0.0381\n",
      "2      0          A320              150        5000                0.0417\n",
      "3      3          B737              150        5000                0.0425\n",
      "4      5          Q400               90        1500                0.0519\n",
      "5      2         ATR72               75        1000                0.0564\n"
     ]
    }
   ],
   "source": [
    "cost = lowest_cost.drop(['Hours Flown', 'Costs per flight hour', 'Total Costs',\"Ave. Speed (km/h)\"],axis=1).reset_index()\n",
    "print(cost)"
   ]
  },
  {
   "cell_type": "markdown",
   "id": "2b2096d2-c613-4995-a26e-2c8096a6c6a3",
   "metadata": {},
   "source": [
    "### Iterating over city pairs table and generating the cost for each aircraft type for each city pair.\n",
    "\n",
    "#### *lowest cost = (cost per seat per km * number of seats * distance * number of trips)*\n",
    "\n",
    "#### *number of trips = passengers/number of seats*\n"
   ]
  },
  {
   "cell_type": "code",
   "execution_count": 10,
   "id": "ec2c6b6f-6e9d-468f-a019-018f9c426f3a",
   "metadata": {},
   "outputs": [
    {
     "name": "stdout",
     "output_type": "stream",
     "text": [
      "   index Aircraft Type  Number of Seats  Range (Km)  Cost per seat per km  \\\n",
      "0      1          A330              250        8000                0.0333   \n",
      "1      4          B747              350       10000                0.0381   \n",
      "2      0          A320              150        5000                0.0417   \n",
      "3      3          B737              150        5000                0.0425   \n",
      "4      5          Q400               90        1500                0.0519   \n",
      "5      2         ATR72               75        1000                0.0564   \n",
      "\n",
      "  AA-BB cost BB-CC cost CC-AA cost AA-DD cost  \n",
      "0      49950     108225       6660      16650  \n",
      "1      80010     173355       5334      13335  \n",
      "2      56295        NaN       5004      12510  \n",
      "3      57375        NaN       5100      12750  \n",
      "4        NaN        NaN       7473      18684  \n",
      "5        NaN        NaN       6767      16919  \n"
     ]
    }
   ],
   "source": [
    "for source,destination,passengers,distance in city_pairs.itertuples(index=False):\n",
    "    cost[source + \"-\" + destination + ' cost'] = np.where(cost[\"Range (Km)\"] >= distance, (cost[\"Cost per seat per km\"] * cost[\"Number of Seats\"] * distance * np.ceil(passengers/cost[\"Number of Seats\"])).astype(int), \"NaN\")\n",
    "print(cost)"
   ]
  },
  {
   "cell_type": "markdown",
   "id": "a20c7452-dca4-4ab7-8025-0ba6a5d1ab58",
   "metadata": {
    "tags": []
   },
   "source": [
    "## Finding the most optimal aircraft type for each city pair "
   ]
  },
  {
   "cell_type": "code",
   "execution_count": 11,
   "id": "8f08c35c-c7cb-4ad1-8814-efef9dd78821",
   "metadata": {},
   "outputs": [
    {
     "name": "stdout",
     "output_type": "stream",
     "text": [
      "   Optimal Flight  No. of Trips\n",
      "0               1           2.0\n",
      "1               1           2.0\n",
      "2               0           2.0\n",
      "3               0           2.0\n",
      "The most optimal flights for city-pairs AA-BB, BB-CC, CC-DD, AA-DD are 1, 1, 0, 0 respectively \n"
     ]
    }
   ],
   "source": [
    "AA_BB = cost.sort_values(\"AA-BB cost\", ascending=True).iloc[0,0]\n",
    "BB_CC = cost.sort_values(\"BB-CC cost\", ascending=True).iloc[0,0]\n",
    "CC_AA = cost.sort_values(\"CC-AA cost\", ascending=True).iloc[0,0]\n",
    "AA_DD = cost.sort_values(\"AA-DD cost\", ascending=True).iloc[0,0]\n",
    "\n",
    "optimal = pd.DataFrame(columns=[\"Optimal Flight\",\"No. of Trips\"])\n",
    "optimal[\"Optimal Flight\"] =[AA_BB,BB_CC,CC_AA,AA_DD]\n",
    "optimal[\"No. of Trips\"] = np.ceil(city_pairs[\"Passengers\"]/cost[\"Number of Seats\"])\n",
    "\n",
    "print(optimal)\n",
    "\n",
    "print(f\"The most optimal flights for city-pairs AA-BB, BB-CC, CC-DD, AA-DD are {AA_BB}, {BB_CC}, {CC_AA}, {AA_DD} respectively \")\n"
   ]
  },
  {
   "cell_type": "markdown",
   "id": "85424c9e-9742-48a8-bc9f-2b508d2dda51",
   "metadata": {},
   "source": [
    "### <font color='Blue'>The most optimal flights for city-pairs </font><font color='Red'>AA-BB, BB-CC, CC-DD, AA-DD are A330, A330, A320, A320 </font> <font color=\"Blue\">respectively</font>\n",
    "\n"
   ]
  }
 ],
 "metadata": {
  "kernelspec": {
   "display_name": "Python 3",
   "language": "python",
   "name": "python3"
  },
  "language_info": {
   "codemirror_mode": {
    "name": "ipython",
    "version": 3
   },
   "file_extension": ".py",
   "mimetype": "text/x-python",
   "name": "python",
   "nbconvert_exporter": "python",
   "pygments_lexer": "ipython3",
   "version": "3.8.5"
  }
 },
 "nbformat": 4,
 "nbformat_minor": 5
}